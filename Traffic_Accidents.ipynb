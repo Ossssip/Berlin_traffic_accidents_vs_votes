{
 "cells": [
  {
   "cell_type": "markdown",
   "id": "bfdc10d2",
   "metadata": {},
   "source": [
    "installing and importing packages - this way it should work both with colab and jupyter notebook in anaconda"
   ]
  },
  {
   "cell_type": "code",
   "execution_count": 1,
   "id": "f74bff8c",
   "metadata": {
    "collapsed": true
   },
   "outputs": [
    {
     "name": "stdout",
     "output_type": "stream",
     "text": [
      "Requirement already satisfied: pandas in c:\\users\\user\\anaconda3\\envs\\testenv\\lib\\site-packages (1.5.3)\n",
      "Requirement already satisfied: pytz>=2020.1 in c:\\users\\user\\anaconda3\\envs\\testenv\\lib\\site-packages (from pandas) (2023.2)\n",
      "Requirement already satisfied: python-dateutil>=2.8.1 in c:\\users\\user\\anaconda3\\envs\\testenv\\lib\\site-packages (from pandas) (2.8.2)\n",
      "Requirement already satisfied: numpy>=1.21.0 in c:\\users\\user\\anaconda3\\envs\\testenv\\lib\\site-packages (from pandas) (1.24.2)\n",
      "Requirement already satisfied: six>=1.5 in c:\\users\\user\\anaconda3\\envs\\testenv\\lib\\site-packages (from python-dateutil>=2.8.1->pandas) (1.16.0)\n",
      "Requirement already satisfied: numpy in c:\\users\\user\\anaconda3\\envs\\testenv\\lib\\site-packages (1.24.2)\n",
      "Requirement already satisfied: matplotlib in c:\\users\\user\\anaconda3\\envs\\testenv\\lib\\site-packages (3.7.1)\n",
      "Requirement already satisfied: fonttools>=4.22.0 in c:\\users\\user\\anaconda3\\envs\\testenv\\lib\\site-packages (from matplotlib) (4.39.2)\n",
      "Requirement already satisfied: kiwisolver>=1.0.1 in c:\\users\\user\\anaconda3\\envs\\testenv\\lib\\site-packages (from matplotlib) (1.4.4)\n",
      "Requirement already satisfied: contourpy>=1.0.1 in c:\\users\\user\\anaconda3\\envs\\testenv\\lib\\site-packages (from matplotlib) (1.0.7)\n",
      "Requirement already satisfied: python-dateutil>=2.7 in c:\\users\\user\\anaconda3\\envs\\testenv\\lib\\site-packages (from matplotlib) (2.8.2)\n",
      "Requirement already satisfied: packaging>=20.0 in c:\\users\\user\\anaconda3\\envs\\testenv\\lib\\site-packages (from matplotlib) (22.0)\n",
      "Requirement already satisfied: numpy>=1.20 in c:\\users\\user\\anaconda3\\envs\\testenv\\lib\\site-packages (from matplotlib) (1.24.2)\n",
      "Requirement already satisfied: cycler>=0.10 in c:\\users\\user\\anaconda3\\envs\\testenv\\lib\\site-packages (from matplotlib) (0.11.0)\n",
      "Requirement already satisfied: pillow>=6.2.0 in c:\\users\\user\\anaconda3\\envs\\testenv\\lib\\site-packages (from matplotlib) (9.4.0)\n",
      "Requirement already satisfied: pyparsing>=2.3.1 in c:\\users\\user\\anaconda3\\envs\\testenv\\lib\\site-packages (from matplotlib) (3.0.9)\n",
      "Requirement already satisfied: six>=1.5 in c:\\users\\user\\anaconda3\\envs\\testenv\\lib\\site-packages (from python-dateutil>=2.7->matplotlib) (1.16.0)\n",
      "Requirement already satisfied: seaborn in c:\\users\\user\\anaconda3\\envs\\testenv\\lib\\site-packages (0.12.2)\n",
      "Requirement already satisfied: matplotlib!=3.6.1,>=3.1 in c:\\users\\user\\anaconda3\\envs\\testenv\\lib\\site-packages (from seaborn) (3.7.1)\n",
      "Requirement already satisfied: pandas>=0.25 in c:\\users\\user\\anaconda3\\envs\\testenv\\lib\\site-packages (from seaborn) (1.5.3)\n",
      "Requirement already satisfied: numpy!=1.24.0,>=1.17 in c:\\users\\user\\anaconda3\\envs\\testenv\\lib\\site-packages (from seaborn) (1.24.2)\n",
      "Requirement already satisfied: pyparsing>=2.3.1 in c:\\users\\user\\anaconda3\\envs\\testenv\\lib\\site-packages (from matplotlib!=3.6.1,>=3.1->seaborn) (3.0.9)\n",
      "Requirement already satisfied: pillow>=6.2.0 in c:\\users\\user\\anaconda3\\envs\\testenv\\lib\\site-packages (from matplotlib!=3.6.1,>=3.1->seaborn) (9.4.0)\n",
      "Requirement already satisfied: fonttools>=4.22.0 in c:\\users\\user\\anaconda3\\envs\\testenv\\lib\\site-packages (from matplotlib!=3.6.1,>=3.1->seaborn) (4.39.2)\n",
      "Requirement already satisfied: packaging>=20.0 in c:\\users\\user\\anaconda3\\envs\\testenv\\lib\\site-packages (from matplotlib!=3.6.1,>=3.1->seaborn) (22.0)\n",
      "Requirement already satisfied: contourpy>=1.0.1 in c:\\users\\user\\anaconda3\\envs\\testenv\\lib\\site-packages (from matplotlib!=3.6.1,>=3.1->seaborn) (1.0.7)\n",
      "Requirement already satisfied: python-dateutil>=2.7 in c:\\users\\user\\anaconda3\\envs\\testenv\\lib\\site-packages (from matplotlib!=3.6.1,>=3.1->seaborn) (2.8.2)\n",
      "Requirement already satisfied: cycler>=0.10 in c:\\users\\user\\anaconda3\\envs\\testenv\\lib\\site-packages (from matplotlib!=3.6.1,>=3.1->seaborn) (0.11.0)\n",
      "Requirement already satisfied: kiwisolver>=1.0.1 in c:\\users\\user\\anaconda3\\envs\\testenv\\lib\\site-packages (from matplotlib!=3.6.1,>=3.1->seaborn) (1.4.4)\n",
      "Requirement already satisfied: pytz>=2020.1 in c:\\users\\user\\anaconda3\\envs\\testenv\\lib\\site-packages (from pandas>=0.25->seaborn) (2023.2)\n",
      "Requirement already satisfied: six>=1.5 in c:\\users\\user\\anaconda3\\envs\\testenv\\lib\\site-packages (from python-dateutil>=2.7->matplotlib!=3.6.1,>=3.1->seaborn) (1.16.0)\n"
     ]
    }
   ],
   "source": [
    "import sys\n",
    "!{sys.executable} -m pip install pandas\n",
    "!{sys.executable} -m pip install numpy \n",
    "!{sys.executable} -m pip install matplotlib\n",
    "!{sys.executable} -m pip install seaborn\n",
    "\n",
    "import pandas as pd\n",
    "import numpy as np\n",
    "import matplotlib.pyplot as plt\n",
    "import seaborn as sns"
   ]
  },
  {
   "cell_type": "markdown",
   "id": "fe58f3ea",
   "metadata": {},
   "source": [
    "Getting the traffic accident data\n",
    "\n",
    "*It's not that I am trying to sneak car accidents in the weater, it's just some data I had on hand:)*"
   ]
  },
  {
   "cell_type": "code",
   "execution_count": 2,
   "id": "a15bca16",
   "metadata": {},
   "outputs": [
    {
     "name": "stdout",
     "output_type": "stream",
     "text": [
      "   OBJECTID  LAND  BEZ  LOR_ab_2021  UJAHR  UMONAT  USTUNDE  UWOCHENTAG  \\\n",
      "0    219249    11    3    3701658.0   2021      11       18           2   \n",
      "1    219248    11    7    7501134.0   2021      12       19           7   \n",
      "2    219247    11    4    4100101.0   2021      12       17           4   \n",
      "3    219246    11    4    4501041.0   2021      12       15           7   \n",
      "4    219243    11   11   11501339.0   2021      12        9           5   \n",
      "\n",
      "   UKATEGORIE  UART  ...  IstPKW  IstFuss  IstKrad  IstGkfz  IstSonstige  \\\n",
      "0           3     0  ...       1        0        1        0            0   \n",
      "1           3     6  ...       1        1        0        0            0   \n",
      "2           3     5  ...       1        0        0        0            0   \n",
      "3           3     5  ...       1        0        1        0            0   \n",
      "4           3     3  ...       1        0        0        0            1   \n",
      "\n",
      "   USTRZUSTAND      LINREFX      LINREFY    XGCSWGS84    YGCSWGS84  \n",
      "0            1  800202,0742  5829640,204  13,42689483  52,53393955  \n",
      "1            1  798479,5317  5819049,219  13,39209027  52,43995086  \n",
      "2            0  793352,6128  5829680,195  13,32624193  52,53802784  \n",
      "3            1  792950,0395  5825362,081  13,31652064  52,49953417  \n",
      "4            2    807182,01  5825602,793  13,52575163  52,49386714  \n",
      "\n",
      "[5 rows x 23 columns]\n",
      "OBJECTID         int64\n",
      "LAND             int64\n",
      "BEZ              int64\n",
      "LOR_ab_2021    float64\n",
      "UJAHR            int64\n",
      "UMONAT           int64\n",
      "USTUNDE          int64\n",
      "UWOCHENTAG       int64\n",
      "UKATEGORIE       int64\n",
      "UART             int64\n",
      "UTYP1            int64\n",
      "ULICHTVERH       int64\n",
      "IstRad           int64\n",
      "IstPKW           int64\n",
      "IstFuss          int64\n",
      "IstKrad          int64\n",
      "IstGkfz          int64\n",
      "IstSonstige      int64\n",
      "USTRZUSTAND      int64\n",
      "LINREFX         object\n",
      "LINREFY         object\n",
      "XGCSWGS84       object\n",
      "YGCSWGS84       object\n",
      "dtype: object\n"
     ]
    },
    {
     "data": {
      "text/plain": [
       "(11267, 23)"
      ]
     },
     "execution_count": 2,
     "metadata": {},
     "output_type": "execute_result"
    }
   ],
   "source": [
    "#not sure if links are permanent, see https://daten.berlin.de/search/node/Stra%C3%9Fenverkehrsunf%C3%A4lle%20nach%20Unfallort\n",
    "accidents_21 = pd.read_csv('https://download.statistik-berlin-brandenburg.de/c2b6d25afa19b607/8d9164595b8b/AfSBBB_BE_LOR_Strasse_Strassenverkehrsunfaelle_2021_Datensatz.csv',\\\n",
    "                          header=0, sep=';')\n",
    "\n",
    "print(accidents_21.head())\n",
    "print(accidents_21.dtypes)\n",
    "accidents_21.shape"
   ]
  },
  {
   "cell_type": "code",
   "execution_count": 4,
   "id": "5f967673",
   "metadata": {},
   "outputs": [
    {
     "data": {
      "text/plain": [
       "<Axes: title={'center': 'Accidents per month'}, xlabel='Month', ylabel='Accidents'>"
      ]
     },
     "execution_count": 4,
     "metadata": {},
     "output_type": "execute_result"
    },
    {
     "data": {
      "image/png": "[encoded data removed]",
      "text/plain": [
       "<Figure size 640x480 with 1 Axes>"
      ]
     },
     "metadata": {},
     "output_type": "display_data"
    }
   ],
   "source": [
    "accidents_21.value_counts('UMONAT',sort=False).plot(kind='bar',title='Accidents per month', xlabel='Month',ylabel='Accidents')"
   ]
  },
  {
   "cell_type": "code",
   "execution_count": null,
   "id": "968fbd81",
   "metadata": {},
   "outputs": [],
   "source": []
  }
 ],
 "metadata": {
  "kernelspec": {
   "display_name": "testEnv",
   "language": "python",
   "name": "testenv"
  },
  "language_info": {
   "codemirror_mode": {
    "name": "ipython",
    "version": 3
   },
   "file_extension": ".py",
   "mimetype": "text/x-python",
   "name": "python",
   "nbconvert_exporter": "python",
   "pygments_lexer": "ipython3",
   "version": "3.10.9"
  }
 },
 "nbformat": 4,
 "nbformat_minor": 5
}
